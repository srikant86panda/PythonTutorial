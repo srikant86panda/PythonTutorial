{
 "cells": [
  {
   "cell_type": "markdown",
   "metadata": {},
   "source": [
    "### Lamda Functions"
   ]
  },
  {
   "cell_type": "code",
   "execution_count": 2,
   "metadata": {},
   "outputs": [
    {
     "data": {
      "text/plain": [
       "7"
      ]
     },
     "execution_count": 2,
     "metadata": {},
     "output_type": "execute_result"
    }
   ],
   "source": [
    "# Normal functions\n",
    "def f(x):\n",
    "    return 3*x+1\n",
    "f(2)"
   ]
  },
  {
   "cell_type": "code",
   "execution_count": 3,
   "metadata": {},
   "outputs": [
    {
     "data": {
      "text/plain": [
       "7"
      ]
     },
     "execution_count": 3,
     "metadata": {},
     "output_type": "execute_result"
    }
   ],
   "source": [
    "# Lambda function with name e.g: 1\n",
    "lf = lambda x: 3*x+1\n",
    "lf(2)"
   ]
  },
  {
   "cell_type": "code",
   "execution_count": 6,
   "metadata": {},
   "outputs": [
    {
     "data": {
      "text/plain": [
       "'Srikant Panda'"
      ]
     },
     "execution_count": 6,
     "metadata": {},
     "output_type": "execute_result"
    }
   ],
   "source": [
    "# Lambda function with name e.g: 2\n",
    "full_name= lambda fn,ln: fn.strip().title()+' '+ln.strip().title()\n",
    "full_name(\"   sriKANT  \",\"   panda  \")"
   ]
  },
  {
   "cell_type": "code",
   "execution_count": 13,
   "metadata": {},
   "outputs": [
    {
     "name": "stdout",
     "output_type": "stream",
     "text": [
      "['Isac Aimov', 'Ray Braburay', 'Couglas Adams', 'H G Wells']\n",
      "Help on built-in function sort:\n",
      "\n",
      "sort(...) method of builtins.list instance\n",
      "    L.sort(key=None, reverse=False) -> None -- stable sort *IN PLACE*\n",
      "\n",
      "['Couglas Adams', 'Isac Aimov', 'Ray Braburay', 'H G Wells']\n"
     ]
    }
   ],
   "source": [
    "# Lambda function with out name e.g: Sort authors list by last name:\n",
    "scifi_authors=[\"Isac Aimov\",\"Ray Braburay\",\"Couglas Adams\",\"H G Wells\"] \n",
    "print(scifi_authors)\n",
    "help(scifi_authors.sort)\n",
    "scifi_authors.sort(key=lambda name: name.split(\" \")[-1].lower())\n",
    "print(scifi_authors)"
   ]
  },
  {
   "cell_type": "code",
   "execution_count": 16,
   "metadata": {},
   "outputs": [
    {
     "name": "stdout",
     "output_type": "stream",
     "text": [
      "4\n",
      "9\n"
     ]
    }
   ],
   "source": [
    "def build_quardetic_function(a, b, c):\n",
    "    return lambda x: a*x**2+b*x+c\n",
    "f = build_quardetic_function(2, 3, 4)\n",
    "print(f(0))\n",
    "\n",
    "print(build_quardetic_function(2, 3, 4)(1))"
   ]
  },
  {
   "cell_type": "markdown",
   "metadata": {},
   "source": [
    "### Map, Filter & Reduce Functions"
   ]
  },
  {
   "cell_type": "code",
   "execution_count": 23,
   "metadata": {},
   "outputs": [
    {
     "name": "stdout",
     "output_type": "stream",
     "text": [
      "[12.566370614359172, 28.274333882308138, 50.26548245743669, 78.53981633974483]\n",
      "[12.566370614359172, 28.274333882308138, 50.26548245743669, 78.53981633974483]\n",
      "[('Berlin', 73.4), ('NY', 93.2), ('LA', 82.4)]\n"
     ]
    }
   ],
   "source": [
    "# MAP\n",
    "import math\n",
    "def area(r):\n",
    "    return math.pi *(r**2)\n",
    "radii = [2,3,4,5]\n",
    "\n",
    "areas = []\n",
    "for iradii in radii:\n",
    "    a = area(iradii)\n",
    "    areas.append(a)\n",
    "print(areas)\n",
    "        \n",
    "print(list(map(area,radii)))\n",
    "\n",
    "temp = [(\"Berlin\",23),(\"NY\",34),(\"LA\",28)]\n",
    "ctof = lambda data: (data[0],(9/5)*data[1]+32)\n",
    "print(list(map(ctof,temp)))"
   ]
  },
  {
   "cell_type": "code",
   "execution_count": 29,
   "metadata": {},
   "outputs": [
    {
     "name": "stdout",
     "output_type": "stream",
     "text": [
      "3\n",
      "[4, 5]\n",
      "['Argentina', 'Brazil', 'Chile']\n",
      "['Argentina', 'Brazil', 'Chile']\n"
     ]
    }
   ],
   "source": [
    "# Filter\n",
    "import statistics\n",
    "data = [1,2,3,4,5]\n",
    "avg = statistics.mean(data)\n",
    "print(avg)\n",
    "print(list(filter(lambda x: x > avg,data)))\n",
    "\n",
    "#Remove missing data\n",
    "countries = [\"Argentina\",\"\",\"Brazil\",\"Chile\",\"\",\"\"]\n",
    "print(list(filter(lambda x: x != \"\",countries)))\n",
    "print(list(filter(None,countries)))"
   ]
  },
  {
   "cell_type": "code",
   "execution_count": 34,
   "metadata": {},
   "outputs": [
    {
     "name": "stdout",
     "output_type": "stream",
     "text": [
      "720\n",
      "720\n"
     ]
    }
   ],
   "source": [
    "# Reduce\n",
    "from functools import reduce\n",
    "data = [2,3,4,5,6]\n",
    "multiplier = lambda x,y: x*y\n",
    "print(reduce(multiplier,data))\n",
    "\n",
    "product = 1\n",
    "for i in data:\n",
    "    product = product * i\n",
    "print(product)"
   ]
  }
 ],
 "metadata": {
  "kernelspec": {
   "display_name": "Python 3",
   "language": "python",
   "name": "python3"
  },
  "language_info": {
   "codemirror_mode": {
    "name": "ipython",
    "version": 3
   },
   "file_extension": ".py",
   "mimetype": "text/x-python",
   "name": "python",
   "nbconvert_exporter": "python",
   "pygments_lexer": "ipython3",
   "version": "3.6.3"
  }
 },
 "nbformat": 4,
 "nbformat_minor": 1
}
